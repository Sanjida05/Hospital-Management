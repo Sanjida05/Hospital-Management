{
 "cells": [
  {
   "cell_type": "code",
   "execution_count": 1,
   "id": "7203ff07",
   "metadata": {
    "_cell_guid": "b1076dfc-b9ad-4769-8c92-a6c4dae69d19",
    "_uuid": "8f2839f25d086af736a60e9eeb907d3b93b6e0e5",
    "execution": {
     "iopub.execute_input": "2025-06-16T16:27:09.068614Z",
     "iopub.status.busy": "2025-06-16T16:27:09.068297Z",
     "iopub.status.idle": "2025-06-16T16:27:12.735551Z",
     "shell.execute_reply": "2025-06-16T16:27:12.734589Z"
    },
    "papermill": {
     "duration": 3.673732,
     "end_time": "2025-06-16T16:27:12.737340",
     "exception": false,
     "start_time": "2025-06-16T16:27:09.063608",
     "status": "completed"
    },
    "tags": []
   },
   "outputs": [],
   "source": [
    "import numpy as np\n",
    "import pandas as pd\n",
    "import matplotlib.pyplot as plt\n",
    "import seaborn as sns\n"
   ]
  },
  {
   "cell_type": "code",
   "execution_count": 2,
   "id": "bab3a4f5",
   "metadata": {
    "execution": {
     "iopub.execute_input": "2025-06-16T16:27:12.745312Z",
     "iopub.status.busy": "2025-06-16T16:27:12.744887Z",
     "iopub.status.idle": "2025-06-16T16:27:12.800970Z",
     "shell.execute_reply": "2025-06-16T16:27:12.800075Z"
    },
    "papermill": {
     "duration": 0.061659,
     "end_time": "2025-06-16T16:27:12.802638",
     "exception": false,
     "start_time": "2025-06-16T16:27:12.740979",
     "status": "completed"
    },
    "tags": []
   },
   "outputs": [],
   "source": [
    "appointment = pd.read_csv(\"/kaggle/input/hospital-management-dataset/appointments.csv\")\n",
    "billing = pd.read_csv(\"/kaggle/input/hospital-management-dataset/billing.csv\")\n",
    "doctor = pd.read_csv(\"/kaggle/input/hospital-management-dataset/doctors.csv\")\n",
    "patient = pd.read_csv(\"/kaggle/input/hospital-management-dataset/patients.csv\")\n",
    "treatment = pd.read_csv(\"/kaggle/input/hospital-management-dataset/treatments.csv\")"
   ]
  },
  {
   "cell_type": "code",
   "execution_count": 3,
   "id": "f792e446",
   "metadata": {
    "execution": {
     "iopub.execute_input": "2025-06-16T16:27:12.810607Z",
     "iopub.status.busy": "2025-06-16T16:27:12.809784Z",
     "iopub.status.idle": "2025-06-16T16:27:12.835412Z",
     "shell.execute_reply": "2025-06-16T16:27:12.834601Z"
    },
    "papermill": {
     "duration": 0.031644,
     "end_time": "2025-06-16T16:27:12.837570",
     "exception": false,
     "start_time": "2025-06-16T16:27:12.805926",
     "status": "completed"
    },
    "tags": []
   },
   "outputs": [
    {
     "name": "stdout",
     "output_type": "stream",
     "text": [
      "  appointment_id patient_id doctor_id appointment_date appointment_time  \\\n",
      "0           A001       P034      D009       2023-08-09         15:15:00   \n",
      "1           A002       P032      D004       2023-06-09         14:30:00   \n",
      "2           A003       P048      D004       2023-06-28          8:00:00   \n",
      "3           A004       P025      D006       2023-09-01          9:15:00   \n",
      "4           A005       P040      D003       2023-07-06         12:45:00   \n",
      "\n",
      "  reason_for_visit     status  \n",
      "0          Therapy  Scheduled  \n",
      "1          Therapy    No-show  \n",
      "2     Consultation  Cancelled  \n",
      "3     Consultation  Cancelled  \n",
      "4        Emergency    No-show  \n",
      "  bill_id patient_id treatment_id   bill_date   amount payment_method  \\\n",
      "0    B001       P034         T001  2023-08-09  3941.97      Insurance   \n",
      "1    B002       P032         T002  2023-06-09  4158.44      Insurance   \n",
      "2    B003       P048         T003  2023-06-28  3731.55      Insurance   \n",
      "3    B004       P025         T004  2023-09-01  4799.86      Insurance   \n",
      "4    B005       P040         T005  2023-07-06   582.05    Credit Card   \n",
      "\n",
      "  payment_status  \n",
      "0        Pending  \n",
      "1           Paid  \n",
      "2           Paid  \n",
      "3         Failed  \n",
      "4        Pending  \n",
      "  doctor_id first_name last_name specialization  phone_number  \\\n",
      "0      D001      David    Taylor    Dermatology    8322010158   \n",
      "1      D002       Jane     Davis     Pediatrics    9004382050   \n",
      "2      D003       Jane     Smith     Pediatrics    8737740598   \n",
      "3      D004      David     Jones     Pediatrics    6594221991   \n",
      "4      D005      Sarah    Taylor    Dermatology    9118538547   \n",
      "\n",
      "   years_experience   hospital_branch                         email  \n",
      "0                17   Westside Clinic  dr.david.taylor@hospital.com  \n",
      "1                24   Eastside Clinic    dr.jane.davis@hospital.com  \n",
      "2                19   Eastside Clinic    dr.jane.smith@hospital.com  \n",
      "3                28  Central Hospital   dr.david.jones@hospital.com  \n",
      "4                26  Central Hospital  dr.sarah.taylor@hospital.com  \n",
      "  patient_id first_name last_name gender date_of_birth  contact_number  \\\n",
      "0       P001      David  Williams      F    1955-06-04      6939585183   \n",
      "1       P002      Emily     Smith      F    1984-10-12      8228188767   \n",
      "2       P003      Laura     Jones      M    1977-08-21      8397029847   \n",
      "3       P004    Michael   Johnson      F    1981-02-20      9019443432   \n",
      "4       P005      David    Wilson      M    1960-06-23      7734463155   \n",
      "\n",
      "        address registration_date insurance_provider insurance_number  \\\n",
      "0   789 Pine Rd        2022-06-23       WellnessCorp        INS840674   \n",
      "1  321 Maple Dr        2022-01-15        PulseSecure        INS354079   \n",
      "2  321 Maple Dr        2022-02-07        PulseSecure        INS650929   \n",
      "3    123 Elm St        2021-03-02        HealthIndia        INS789944   \n",
      "4    123 Elm St        2021-09-29       MedCare Plus        INS788105   \n",
      "\n",
      "                      email  \n",
      "0   david.williams@mail.com  \n",
      "1      emily.smith@mail.com  \n",
      "2      laura.jones@mail.com  \n",
      "3  michael.johnson@mail.com  \n",
      "4     david.wilson@mail.com  \n",
      "  treatment_id appointment_id treatment_type         description     cost  \\\n",
      "0         T001           A001   Chemotherapy     Basic screening  3941.97   \n",
      "1         T002           A002            MRI   Advanced protocol  4158.44   \n",
      "2         T003           A003            MRI  Standard procedure  3731.55   \n",
      "3         T004           A004            MRI     Basic screening  4799.86   \n",
      "4         T005           A005            ECG  Standard procedure   582.05   \n",
      "\n",
      "  treatment_date  \n",
      "0     2023-08-09  \n",
      "1     2023-06-09  \n",
      "2     2023-06-28  \n",
      "3     2023-09-01  \n",
      "4     2023-07-06  \n"
     ]
    }
   ],
   "source": [
    "print(appointment.head())\n",
    "print(billing.head())\n",
    "print(doctor.head())\n",
    "print(patient.head())\n",
    "print(treatment.head())"
   ]
  },
  {
   "cell_type": "code",
   "execution_count": 4,
   "id": "c1ad4c35",
   "metadata": {
    "execution": {
     "iopub.execute_input": "2025-06-16T16:27:12.845020Z",
     "iopub.status.busy": "2025-06-16T16:27:12.844688Z",
     "iopub.status.idle": "2025-06-16T16:27:12.888172Z",
     "shell.execute_reply": "2025-06-16T16:27:12.886569Z"
    },
    "papermill": {
     "duration": 0.048949,
     "end_time": "2025-06-16T16:27:12.889819",
     "exception": false,
     "start_time": "2025-06-16T16:27:12.840870",
     "status": "completed"
    },
    "tags": []
   },
   "outputs": [
    {
     "name": "stdout",
     "output_type": "stream",
     "text": [
      "<class 'pandas.core.frame.DataFrame'>\n",
      "RangeIndex: 200 entries, 0 to 199\n",
      "Data columns (total 7 columns):\n",
      " #   Column            Non-Null Count  Dtype \n",
      "---  ------            --------------  ----- \n",
      " 0   appointment_id    200 non-null    object\n",
      " 1   patient_id        200 non-null    object\n",
      " 2   doctor_id         200 non-null    object\n",
      " 3   appointment_date  200 non-null    object\n",
      " 4   appointment_time  200 non-null    object\n",
      " 5   reason_for_visit  200 non-null    object\n",
      " 6   status            200 non-null    object\n",
      "dtypes: object(7)\n",
      "memory usage: 11.1+ KB\n",
      "None\n",
      "<class 'pandas.core.frame.DataFrame'>\n",
      "RangeIndex: 200 entries, 0 to 199\n",
      "Data columns (total 7 columns):\n",
      " #   Column          Non-Null Count  Dtype  \n",
      "---  ------          --------------  -----  \n",
      " 0   bill_id         200 non-null    object \n",
      " 1   patient_id      200 non-null    object \n",
      " 2   treatment_id    200 non-null    object \n",
      " 3   bill_date       200 non-null    object \n",
      " 4   amount          200 non-null    float64\n",
      " 5   payment_method  200 non-null    object \n",
      " 6   payment_status  200 non-null    object \n",
      "dtypes: float64(1), object(6)\n",
      "memory usage: 11.1+ KB\n",
      "None\n",
      "<class 'pandas.core.frame.DataFrame'>\n",
      "RangeIndex: 10 entries, 0 to 9\n",
      "Data columns (total 8 columns):\n",
      " #   Column            Non-Null Count  Dtype \n",
      "---  ------            --------------  ----- \n",
      " 0   doctor_id         10 non-null     object\n",
      " 1   first_name        10 non-null     object\n",
      " 2   last_name         10 non-null     object\n",
      " 3   specialization    10 non-null     object\n",
      " 4   phone_number      10 non-null     int64 \n",
      " 5   years_experience  10 non-null     int64 \n",
      " 6   hospital_branch   10 non-null     object\n",
      " 7   email             10 non-null     object\n",
      "dtypes: int64(2), object(6)\n",
      "memory usage: 772.0+ bytes\n",
      "None\n",
      "<class 'pandas.core.frame.DataFrame'>\n",
      "RangeIndex: 50 entries, 0 to 49\n",
      "Data columns (total 11 columns):\n",
      " #   Column              Non-Null Count  Dtype \n",
      "---  ------              --------------  ----- \n",
      " 0   patient_id          50 non-null     object\n",
      " 1   first_name          50 non-null     object\n",
      " 2   last_name           50 non-null     object\n",
      " 3   gender              50 non-null     object\n",
      " 4   date_of_birth       50 non-null     object\n",
      " 5   contact_number      50 non-null     int64 \n",
      " 6   address             50 non-null     object\n",
      " 7   registration_date   50 non-null     object\n",
      " 8   insurance_provider  50 non-null     object\n",
      " 9   insurance_number    50 non-null     object\n",
      " 10  email               50 non-null     object\n",
      "dtypes: int64(1), object(10)\n",
      "memory usage: 4.4+ KB\n",
      "None\n",
      "<class 'pandas.core.frame.DataFrame'>\n",
      "RangeIndex: 200 entries, 0 to 199\n",
      "Data columns (total 6 columns):\n",
      " #   Column          Non-Null Count  Dtype  \n",
      "---  ------          --------------  -----  \n",
      " 0   treatment_id    200 non-null    object \n",
      " 1   appointment_id  200 non-null    object \n",
      " 2   treatment_type  200 non-null    object \n",
      " 3   description     200 non-null    object \n",
      " 4   cost            200 non-null    float64\n",
      " 5   treatment_date  200 non-null    object \n",
      "dtypes: float64(1), object(5)\n",
      "memory usage: 9.5+ KB\n",
      "None\n"
     ]
    }
   ],
   "source": [
    "print(appointment.info())\n",
    "print(billing.info())\n",
    "print(doctor.info())\n",
    "print(patient.info())\n",
    "print(treatment.info())"
   ]
  },
  {
   "cell_type": "code",
   "execution_count": 5,
   "id": "5d73498e",
   "metadata": {
    "execution": {
     "iopub.execute_input": "2025-06-16T16:27:12.897566Z",
     "iopub.status.busy": "2025-06-16T16:27:12.897253Z",
     "iopub.status.idle": "2025-06-16T16:27:13.070273Z",
     "shell.execute_reply": "2025-06-16T16:27:13.069344Z"
    },
    "papermill": {
     "duration": 0.178393,
     "end_time": "2025-06-16T16:27:13.071612",
     "exception": false,
     "start_time": "2025-06-16T16:27:12.893219",
     "status": "completed"
    },
    "tags": []
   },
   "outputs": [
    {
     "data": {
      "image/png": "[encoded data removed]",
      "text/plain": [
       "<Figure size 500x500 with 1 Axes>"
      ]
     },
     "metadata": {},
     "output_type": "display_data"
    }
   ],
   "source": [
    "plt.figure(figsize =(5,5))\n",
    "plt.pie(patient['gender'].value_counts().values,labels=patient['gender'].value_counts().index,autopct='%1.2f%%')\n",
    "plt.show()"
   ]
  },
  {
   "cell_type": "markdown",
   "id": "8004d6db",
   "metadata": {
    "papermill": {
     "duration": 0.003109,
     "end_time": "2025-06-16T16:27:13.078369",
     "exception": false,
     "start_time": "2025-06-16T16:27:13.075260",
     "status": "completed"
    },
    "tags": []
   },
   "source": [
    "**Maximum people are Male for visiting the hospital.**"
   ]
  },
  {
   "cell_type": "code",
   "execution_count": 6,
   "id": "079a2ab2",
   "metadata": {
    "execution": {
     "iopub.execute_input": "2025-06-16T16:27:13.086132Z",
     "iopub.status.busy": "2025-06-16T16:27:13.085846Z",
     "iopub.status.idle": "2025-06-16T16:27:13.287831Z",
     "shell.execute_reply": "2025-06-16T16:27:13.286840Z"
    },
    "papermill": {
     "duration": 0.207751,
     "end_time": "2025-06-16T16:27:13.289369",
     "exception": false,
     "start_time": "2025-06-16T16:27:13.081618",
     "status": "completed"
    },
    "tags": []
   },
   "outputs": [
    {
     "data": {
      "text/plain": [
       "([<matplotlib.patches.Wedge at 0x7e3206b08250>,\n",
       "  <matplotlib.patches.Wedge at 0x7e3206b09c10>,\n",
       "  <matplotlib.patches.Wedge at 0x7e3206b04490>,\n",
       "  <matplotlib.patches.Wedge at 0x7e3206afbe10>],\n",
       " [Text(0.46835717599151966, 0.995309778760989, 'MedCare Plus'),\n",
       "  Text(-1.0913261621521642, -0.1378666304884122, 'WellnessCorp'),\n",
       "  Text(0.20611950472011625, -1.0805159646085447, 'PulseSecure'),\n",
       "  Text(1.0227541568457088, -0.40493695145642544, 'HealthIndia')],\n",
       " [Text(0.25546755054082887, 0.5428962429605394, '36.00%'),\n",
       "  Text(-0.5952688157193622, -0.07519998026640663, '32.00%'),\n",
       "  Text(0.11242882075642703, -0.5893723443319334, '20.00%'),\n",
       "  Text(0.5578659037340229, -0.22087470079441385, '12.00%')])"
      ]
     },
     "execution_count": 6,
     "metadata": {},
     "output_type": "execute_result"
    },
    {
     "data": {
      "image/png": "[encoded data removed]",
      "text/plain": [
       "<Figure size 500x500 with 1 Axes>"
      ]
     },
     "metadata": {},
     "output_type": "display_data"
    }
   ],
   "source": [
    "plt.figure(figsize=(5,5))\n",
    "plt.pie(patient['insurance_provider'].value_counts().values,labels=patient['insurance_provider'].value_counts().index,autopct='%1.2f%%')"
   ]
  },
  {
   "cell_type": "markdown",
   "id": "14f02734",
   "metadata": {
    "papermill": {
     "duration": 0.003968,
     "end_time": "2025-06-16T16:27:13.297680",
     "exception": false,
     "start_time": "2025-06-16T16:27:13.293712",
     "status": "completed"
    },
    "tags": []
   },
   "source": [
    "**People mainly use those company such as MedCare Plus and WellnessCorp for their insurance provider**"
   ]
  },
  {
   "cell_type": "code",
   "execution_count": 7,
   "id": "484b3cb0",
   "metadata": {
    "execution": {
     "iopub.execute_input": "2025-06-16T16:27:13.306793Z",
     "iopub.status.busy": "2025-06-16T16:27:13.306488Z",
     "iopub.status.idle": "2025-06-16T16:27:13.535272Z",
     "shell.execute_reply": "2025-06-16T16:27:13.534275Z"
    },
    "papermill": {
     "duration": 0.235118,
     "end_time": "2025-06-16T16:27:13.536770",
     "exception": false,
     "start_time": "2025-06-16T16:27:13.301652",
     "status": "completed"
    },
    "tags": []
   },
   "outputs": [
    {
     "data": {
      "image/png": "[encoded data removed]",
      "text/plain": [
       "<Figure size 1000x600 with 1 Axes>"
      ]
     },
     "metadata": {},
     "output_type": "display_data"
    }
   ],
   "source": [
    "# Count the number of doctors per specialization\n",
    "specialization_counts = doctor['specialization'].value_counts()\n",
    "\n",
    "# Plotting\n",
    "plt.figure(figsize=(10, 6))\n",
    "specialization_counts.plot(kind='bar')\n",
    "plt.title('Number of Doctors by Specialization')\n",
    "plt.xlabel('Specialization')\n",
    "plt.ylabel('Number of Doctors')\n",
    "plt.show()"
   ]
  },
  {
   "cell_type": "code",
   "execution_count": 8,
   "id": "05748119",
   "metadata": {
    "execution": {
     "iopub.execute_input": "2025-06-16T16:27:13.547410Z",
     "iopub.status.busy": "2025-06-16T16:27:13.547086Z",
     "iopub.status.idle": "2025-06-16T16:27:13.720351Z",
     "shell.execute_reply": "2025-06-16T16:27:13.719501Z"
    },
    "papermill": {
     "duration": 0.180342,
     "end_time": "2025-06-16T16:27:13.721996",
     "exception": false,
     "start_time": "2025-06-16T16:27:13.541654",
     "status": "completed"
    },
    "tags": []
   },
   "outputs": [
    {
     "data": {
      "image/png": "[encoded data removed]",
      "text/plain": [
       "<Figure size 1000x600 with 1 Axes>"
      ]
     },
     "metadata": {},
     "output_type": "display_data"
    }
   ],
   "source": [
    "reason_for_visit_counts = appointment['reason_for_visit'].value_counts()\n",
    "# Plotting\n",
    "plt.figure(figsize=(10, 6))\n",
    "reason_for_visit_counts.plot(kind='bar')\n",
    "plt.title('Number of Reason for visit')\n",
    "plt.xlabel('Disease')\n",
    "plt.ylabel('Number of visit')\n",
    "plt.show()"
   ]
  },
  {
   "cell_type": "code",
   "execution_count": 9,
   "id": "582cb2eb",
   "metadata": {
    "execution": {
     "iopub.execute_input": "2025-06-16T16:27:13.733802Z",
     "iopub.status.busy": "2025-06-16T16:27:13.733166Z",
     "iopub.status.idle": "2025-06-16T16:27:13.824705Z",
     "shell.execute_reply": "2025-06-16T16:27:13.823762Z"
    },
    "papermill": {
     "duration": 0.098952,
     "end_time": "2025-06-16T16:27:13.826200",
     "exception": false,
     "start_time": "2025-06-16T16:27:13.727248",
     "status": "completed"
    },
    "tags": []
   },
   "outputs": [
    {
     "data": {
      "text/plain": [
       "([<matplotlib.patches.Wedge at 0x7e3206603210>,\n",
       "  <matplotlib.patches.Wedge at 0x7e320669bb50>,\n",
       "  <matplotlib.patches.Wedge at 0x7e32066a9410>],\n",
       " [Text(0.42095177560159885, 1.0162674857624154, 'Credit Card'),\n",
       "  Text(-1.0735084435245696, -0.23995754141400913, 'Insurance'),\n",
       "  Text(0.6325057570250199, -0.8999647033801974, 'Cash')],\n",
       " [Text(0.22961005941905388, 0.5543277195067721, '37.50%'),\n",
       "  Text(-0.5855500601043107, -0.1308859316803686, '32.00%'),\n",
       "  Text(0.34500314019546535, -0.49088983820738036, '30.50%')])"
      ]
     },
     "execution_count": 9,
     "metadata": {},
     "output_type": "execute_result"
    },
    {
     "data": {
      "image/png": "[encoded data removed]",
      "text/plain": [
       "<Figure size 500x500 with 1 Axes>"
      ]
     },
     "metadata": {},
     "output_type": "display_data"
    }
   ],
   "source": [
    "plt.figure(figsize=(5,5))\n",
    "plt.pie(billing['payment_method'].value_counts().values,labels=billing['payment_method'].value_counts().index,autopct='%1.2f%%')"
   ]
  },
  {
   "cell_type": "markdown",
   "id": "8861e954",
   "metadata": {
    "papermill": {
     "duration": 0.00553,
     "end_time": "2025-06-16T16:27:13.838056",
     "exception": false,
     "start_time": "2025-06-16T16:27:13.832526",
     "status": "completed"
    },
    "tags": []
   },
   "source": [
    "**Most people use credit cards to pay their bills.**"
   ]
  },
  {
   "cell_type": "markdown",
   "id": "0492f774",
   "metadata": {
    "papermill": {
     "duration": 0.005555,
     "end_time": "2025-06-16T16:27:13.849086",
     "exception": false,
     "start_time": "2025-06-16T16:27:13.843531",
     "status": "completed"
    },
    "tags": []
   },
   "source": [
    "# Analysis of Revenue per Doctor"
   ]
  },
  {
   "cell_type": "code",
   "execution_count": 10,
   "id": "e11d19fd",
   "metadata": {
    "execution": {
     "iopub.execute_input": "2025-06-16T16:27:13.862223Z",
     "iopub.status.busy": "2025-06-16T16:27:13.861198Z",
     "iopub.status.idle": "2025-06-16T16:27:13.896861Z",
     "shell.execute_reply": "2025-06-16T16:27:13.895869Z"
    },
    "papermill": {
     "duration": 0.04404,
     "end_time": "2025-06-16T16:27:13.898645",
     "exception": false,
     "start_time": "2025-06-16T16:27:13.854605",
     "status": "completed"
    },
    "tags": []
   },
   "outputs": [
    {
     "data": {
      "text/html": [
       "<div>\n",
       "<style scoped>\n",
       "    .dataframe tbody tr th:only-of-type {\n",
       "        vertical-align: middle;\n",
       "    }\n",
       "\n",
       "    .dataframe tbody tr th {\n",
       "        vertical-align: top;\n",
       "    }\n",
       "\n",
       "    .dataframe thead th {\n",
       "        text-align: right;\n",
       "    }\n",
       "</style>\n",
       "<table border=\"1\" class=\"dataframe\">\n",
       "  <thead>\n",
       "    <tr style=\"text-align: right;\">\n",
       "      <th></th>\n",
       "      <th>doctor_name</th>\n",
       "      <th>amount</th>\n",
       "    </tr>\n",
       "  </thead>\n",
       "  <tbody>\n",
       "    <tr>\n",
       "      <th>4</th>\n",
       "      <td>Sarah Taylor</td>\n",
       "      <td>33836.91</td>\n",
       "    </tr>\n",
       "    <tr>\n",
       "      <th>5</th>\n",
       "      <td>Alex Davis</td>\n",
       "      <td>25698.80</td>\n",
       "    </tr>\n",
       "    <tr>\n",
       "      <th>9</th>\n",
       "      <td>Linda Wilson</td>\n",
       "      <td>18935.50</td>\n",
       "    </tr>\n",
       "    <tr>\n",
       "      <th>0</th>\n",
       "      <td>David Taylor</td>\n",
       "      <td>18572.75</td>\n",
       "    </tr>\n",
       "    <tr>\n",
       "      <th>1</th>\n",
       "      <td>Jane Davis</td>\n",
       "      <td>18201.70</td>\n",
       "    </tr>\n",
       "    <tr>\n",
       "      <th>3</th>\n",
       "      <td>David Jones</td>\n",
       "      <td>17693.42</td>\n",
       "    </tr>\n",
       "    <tr>\n",
       "      <th>2</th>\n",
       "      <td>Jane Smith</td>\n",
       "      <td>17260.25</td>\n",
       "    </tr>\n",
       "    <tr>\n",
       "      <th>7</th>\n",
       "      <td>Linda Brown</td>\n",
       "      <td>12919.88</td>\n",
       "    </tr>\n",
       "    <tr>\n",
       "      <th>8</th>\n",
       "      <td>Sarah Smith</td>\n",
       "      <td>9230.98</td>\n",
       "    </tr>\n",
       "    <tr>\n",
       "      <th>6</th>\n",
       "      <td>Robert Davis</td>\n",
       "      <td>1074.71</td>\n",
       "    </tr>\n",
       "  </tbody>\n",
       "</table>\n",
       "</div>"
      ],
      "text/plain": [
       "    doctor_name    amount\n",
       "4  Sarah Taylor  33836.91\n",
       "5    Alex Davis  25698.80\n",
       "9  Linda Wilson  18935.50\n",
       "0  David Taylor  18572.75\n",
       "1    Jane Davis  18201.70\n",
       "3   David Jones  17693.42\n",
       "2    Jane Smith  17260.25\n",
       "7   Linda Brown  12919.88\n",
       "8   Sarah Smith   9230.98\n",
       "6  Robert Davis   1074.71"
      ]
     },
     "execution_count": 10,
     "metadata": {},
     "output_type": "execute_result"
    }
   ],
   "source": [
    "treatments_billing = pd.merge(treatment, billing, on='treatment_id')\n",
    "merged_data = pd.merge(treatments_billing, appointment, on='appointment_id')\n",
    "#only successful payment\n",
    "paid_data = merged_data[merged_data['payment_status'] == 'Paid']\n",
    "# Group by doctor_id and sum the amount to calculate revenue per doctor\n",
    "revenue_per_doctor = paid_data.groupby('doctor_id')['amount'].sum().reset_index()\n",
    "\n",
    "revenue_with_names = pd.merge(revenue_per_doctor, doctor[['doctor_id', 'first_name', 'last_name']], on='doctor_id')\n",
    "revenue_with_names['doctor_name'] = revenue_with_names['first_name'] + ' ' + revenue_with_names['last_name']\n",
    "revenue_final = revenue_with_names[['doctor_name', 'amount']].sort_values(by='amount', ascending=False)\n",
    "revenue_final"
   ]
  },
  {
   "cell_type": "markdown",
   "id": "ca9410a0",
   "metadata": {
    "papermill": {
     "duration": 0.00564,
     "end_time": "2025-06-16T16:27:13.910781",
     "exception": false,
     "start_time": "2025-06-16T16:27:13.905141",
     "status": "completed"
    },
    "tags": []
   },
   "source": [
    "# ***Thank You for visiting my notebook. Feel free to comment and upvote it.***"
   ]
  }
 ],
 "metadata": {
  "kaggle": {
   "accelerator": "none",
   "dataSources": [
    {
     "datasetId": 7554455,
     "sourceId": 12008175,
     "sourceType": "datasetVersion"
    }
   ],
   "dockerImageVersionId": 31040,
   "isGpuEnabled": false,
   "isInternetEnabled": true,
   "language": "python",
   "sourceType": "notebook"
  },
  "kernelspec": {
   "display_name": "Python 3",
   "language": "python",
   "name": "python3"
  },
  "language_info": {
   "codemirror_mode": {
    "name": "ipython",
    "version": 3
   },
   "file_extension": ".py",
   "mimetype": "text/x-python",
   "name": "python",
   "nbconvert_exporter": "python",
   "pygments_lexer": "ipython3",
   "version": "3.11.11"
  },
  "papermill": {
   "default_parameters": {},
   "duration": 10.381326,
   "end_time": "2025-06-16T16:27:14.637321",
   "environment_variables": {},
   "exception": null,
   "input_path": "__notebook__.ipynb",
   "output_path": "__notebook__.ipynb",
   "parameters": {},
   "start_time": "2025-06-16T16:27:04.255995",
   "version": "2.6.0"
  }
 },
 "nbformat": 4,
 "nbformat_minor": 5
}
